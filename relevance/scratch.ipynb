{
 "cells": [
  {
   "cell_type": "code",
   "execution_count": 4,
   "id": "1fe7fa1b",
   "metadata": {},
   "outputs": [
    {
     "name": "stderr",
     "output_type": "stream",
     "text": [
      "\u001b[32m2025-09-02 15:18:45.141\u001b[0m | \u001b[1mINFO    \u001b[0m | \u001b[36mpipeline1\u001b[0m:\u001b[36mpreprocessing\u001b[0m:\u001b[36m16\u001b[0m - \u001b[1mFinished loading 209 URLs from /Users/kerr/Mangrove AI/FireCrwal/certification_map_FSSAI_License_Registration.json\u001b[0m\n",
      "\u001b[32m2025-09-02 15:18:45.160\u001b[0m | \u001b[1mINFO    \u001b[0m | \u001b[36mpipeline1\u001b[0m:\u001b[36mpreprocessing\u001b[0m:\u001b[36m25\u001b[0m - \u001b[1mBatch 1: Processing 50 URLs\u001b[0m\n",
      "\u001b[32m2025-09-02 15:18:45.161\u001b[0m | \u001b[1mINFO    \u001b[0m | \u001b[36mpipeline1\u001b[0m:\u001b[36mpreprocessing\u001b[0m:\u001b[36m27\u001b[0m - \u001b[1mAgent sending prompt to LLM...\u001b[0m\n",
      "\u001b[32m2025-09-02 15:19:12.154\u001b[0m | \u001b[1mINFO    \u001b[0m | \u001b[36mpipeline1\u001b[0m:\u001b[36mpreprocessing\u001b[0m:\u001b[36m38\u001b[0m - \u001b[1mAgent received response from LLM.\u001b[0m\n",
      "\u001b[32m2025-09-02 15:19:12.155\u001b[0m | \u001b[1mINFO    \u001b[0m | \u001b[36mpipeline1\u001b[0m:\u001b[36mpreprocessing\u001b[0m:\u001b[36m42\u001b[0m - \u001b[1mParsing JSON output\u001b[0m\n",
      "\u001b[32m2025-09-02 15:19:12.156\u001b[0m | \u001b[1mINFO    \u001b[0m | \u001b[36mpipeline1\u001b[0m:\u001b[36mpreprocessing\u001b[0m:\u001b[36m25\u001b[0m - \u001b[1mBatch 2: Processing 50 URLs\u001b[0m\n",
      "\u001b[32m2025-09-02 15:19:12.156\u001b[0m | \u001b[1mINFO    \u001b[0m | \u001b[36mpipeline1\u001b[0m:\u001b[36mpreprocessing\u001b[0m:\u001b[36m27\u001b[0m - \u001b[1mAgent sending prompt to LLM...\u001b[0m\n"
     ]
    },
    {
     "name": "stdout",
     "output_type": "stream",
     "text": [
      "Error decoding JSON: Expecting value: line 1 column 1 (char 0)\n"
     ]
    },
    {
     "name": "stderr",
     "output_type": "stream",
     "text": [
      "\u001b[32m2025-09-02 15:20:24.554\u001b[0m | \u001b[1mINFO    \u001b[0m | \u001b[36mpipeline1\u001b[0m:\u001b[36mpreprocessing\u001b[0m:\u001b[36m38\u001b[0m - \u001b[1mAgent received response from LLM.\u001b[0m\n",
      "\u001b[32m2025-09-02 15:20:24.555\u001b[0m | \u001b[1mINFO    \u001b[0m | \u001b[36mpipeline1\u001b[0m:\u001b[36mpreprocessing\u001b[0m:\u001b[36m42\u001b[0m - \u001b[1mParsing JSON output\u001b[0m\n",
      "\u001b[32m2025-09-02 15:20:24.556\u001b[0m | \u001b[1mINFO    \u001b[0m | \u001b[36mpipeline1\u001b[0m:\u001b[36mpreprocessing\u001b[0m:\u001b[36m25\u001b[0m - \u001b[1mBatch 3: Processing 50 URLs\u001b[0m\n",
      "\u001b[32m2025-09-02 15:20:24.557\u001b[0m | \u001b[1mINFO    \u001b[0m | \u001b[36mpipeline1\u001b[0m:\u001b[36mpreprocessing\u001b[0m:\u001b[36m27\u001b[0m - \u001b[1mAgent sending prompt to LLM...\u001b[0m\n"
     ]
    },
    {
     "name": "stdout",
     "output_type": "stream",
     "text": [
      "Error decoding JSON: Expecting value: line 1 column 1 (char 0)\n"
     ]
    },
    {
     "name": "stderr",
     "output_type": "stream",
     "text": [
      "\u001b[32m2025-09-02 15:21:58.109\u001b[0m | \u001b[1mINFO    \u001b[0m | \u001b[36mpipeline1\u001b[0m:\u001b[36mpreprocessing\u001b[0m:\u001b[36m38\u001b[0m - \u001b[1mAgent received response from LLM.\u001b[0m\n",
      "\u001b[32m2025-09-02 15:21:58.110\u001b[0m | \u001b[1mINFO    \u001b[0m | \u001b[36mpipeline1\u001b[0m:\u001b[36mpreprocessing\u001b[0m:\u001b[36m42\u001b[0m - \u001b[1mParsing JSON output\u001b[0m\n",
      "\u001b[32m2025-09-02 15:21:58.110\u001b[0m | \u001b[1mINFO    \u001b[0m | \u001b[36mpipeline1\u001b[0m:\u001b[36mpreprocessing\u001b[0m:\u001b[36m25\u001b[0m - \u001b[1mBatch 4: Processing 50 URLs\u001b[0m\n",
      "\u001b[32m2025-09-02 15:21:58.110\u001b[0m | \u001b[1mINFO    \u001b[0m | \u001b[36mpipeline1\u001b[0m:\u001b[36mpreprocessing\u001b[0m:\u001b[36m27\u001b[0m - \u001b[1mAgent sending prompt to LLM...\u001b[0m\n"
     ]
    },
    {
     "name": "stdout",
     "output_type": "stream",
     "text": [
      "Error decoding JSON: Expecting value: line 1 column 1 (char 0)\n"
     ]
    },
    {
     "name": "stderr",
     "output_type": "stream",
     "text": [
      "\u001b[32m2025-09-02 15:22:31.185\u001b[0m | \u001b[1mINFO    \u001b[0m | \u001b[36mpipeline1\u001b[0m:\u001b[36mpreprocessing\u001b[0m:\u001b[36m38\u001b[0m - \u001b[1mAgent received response from LLM.\u001b[0m\n",
      "\u001b[32m2025-09-02 15:22:31.189\u001b[0m | \u001b[1mINFO    \u001b[0m | \u001b[36mpipeline1\u001b[0m:\u001b[36mpreprocessing\u001b[0m:\u001b[36m42\u001b[0m - \u001b[1mParsing JSON output\u001b[0m\n",
      "\u001b[32m2025-09-02 15:22:31.191\u001b[0m | \u001b[1mINFO    \u001b[0m | \u001b[36mpipeline1\u001b[0m:\u001b[36mpreprocessing\u001b[0m:\u001b[36m25\u001b[0m - \u001b[1mBatch 5: Processing 9 URLs\u001b[0m\n",
      "\u001b[32m2025-09-02 15:22:31.192\u001b[0m | \u001b[1mINFO    \u001b[0m | \u001b[36mpipeline1\u001b[0m:\u001b[36mpreprocessing\u001b[0m:\u001b[36m27\u001b[0m - \u001b[1mAgent sending prompt to LLM...\u001b[0m\n"
     ]
    },
    {
     "name": "stdout",
     "output_type": "stream",
     "text": [
      "Error decoding JSON: Expecting value: line 1 column 1 (char 0)\n"
     ]
    },
    {
     "name": "stderr",
     "output_type": "stream",
     "text": [
      "\u001b[32m2025-09-02 15:22:38.471\u001b[0m | \u001b[1mINFO    \u001b[0m | \u001b[36mpipeline1\u001b[0m:\u001b[36mpreprocessing\u001b[0m:\u001b[36m38\u001b[0m - \u001b[1mAgent received response from LLM.\u001b[0m\n",
      "\u001b[32m2025-09-02 15:22:38.472\u001b[0m | \u001b[1mINFO    \u001b[0m | \u001b[36mpipeline1\u001b[0m:\u001b[36mpreprocessing\u001b[0m:\u001b[36m42\u001b[0m - \u001b[1mParsing JSON output\u001b[0m\n",
      "\u001b[32m2025-09-02 15:22:38.473\u001b[0m | \u001b[1mINFO    \u001b[0m | \u001b[36mpipeline1\u001b[0m:\u001b[36mpreprocessing\u001b[0m:\u001b[36m48\u001b[0m - \u001b[1mFinished processing all batches.\u001b[0m\n"
     ]
    },
    {
     "name": "stdout",
     "output_type": "stream",
     "text": [
      "Error decoding JSON: Expecting value: line 1 column 1 (char 0)\n"
     ]
    }
   ],
   "source": [
    "from openai import OpenAI\n",
    "from pipeline1 import preprocessing\n",
    "client = OpenAI()\n",
    "output = preprocessing('/Users/kerr/Mangrove AI/FireCrwal/certification_map_FSSAI_License_Registration.json', batch_size=50)\n"
   ]
  },
  {
   "cell_type": "code",
   "execution_count": 5,
   "id": "9a272dec",
   "metadata": {},
   "outputs": [
    {
     "data": {
      "text/plain": [
       "[]"
      ]
     },
     "execution_count": 5,
     "metadata": {},
     "output_type": "execute_result"
    }
   ],
   "source": [
    "output"
   ]
  },
  {
   "cell_type": "code",
   "execution_count": 7,
   "id": "002d6dd0",
   "metadata": {},
   "outputs": [
    {
     "name": "stdout",
     "output_type": "stream",
     "text": [
      "\n",
      "You are an assistant that processes certification-related URLs and metadata.\n",
      "\n",
      "Certification Context:\n",
      "- Name: FSSAI License/Registration\n",
      "- Issuing Body: Food Safety and Standards Authority of India\n",
      "- Region: India\n",
      "- Official Link: https://foscos.fssai.gov.in/\n",
      "\n",
      "Task:\n",
      "- For each given URL, return JSON objects with:\n",
      "  - \"url\": link\n",
      "  - \"title\": cleaned human-readable title\n",
      "  - \"desc\": a short description (1–2 sentences) that explicitly connects the link back to the certification context above\n",
      "- If description is missing, infer it from context or the URL path.\n",
      "- If the page is only for login/portal access, mark it with `\"desc\": \"Not relevant to certification.\"`\n",
      "- Output must be a JSON array only (no extra text).\n",
      "\n",
      "---\n",
      "\n",
      "### Few-shot Examples\n",
      "\n",
      "**Certification Context (Example):**\n",
      "- Name: FSSAI License/Registration\n",
      "- Issuing Body: Food Safety and Standards Authority of India\n",
      "- Region: India\n",
      "- Official Link: https://foscos.fssai.gov.in/\n",
      "\n",
      "**Input URLs:**\n",
      "[\n",
      "  {\n",
      "    \"url\": \"https://foscos.fssai.gov.in/assets/docs/fbo/HowtoapplyforManufacturerlicense.pdf\",\n",
      "    \"title\": \"[PDF] How to apply for a license for a Manufacturer? Step 1 - FoSCoS\",\n",
      "    \"description\": \"Step 4: Read the Group Heads of Kind of Business and select the appropriate Manufacturing...\"\n",
      "  },\n",
      "  {\n",
      "    \"url\": \"https://foscos.fssai.gov.in/faqs-license-registration\",\n",
      "    \"title\": \"FoSCoS - FSSAI\",\n",
      "    \"description\": null\n",
      "  },\n",
      "  {\n",
      "    \"url\": \"https://foscos.fssai.gov.in/public/login-guest-user\",\n",
      "    \"title\": \"FoSCoS - FSSAI\",\n",
      "    \"description\": null\n",
      "  },\n",
      "  {\n",
      "    \"url\": \"https://foscos.fssai.gov.in/renewal\",\n",
      "    \"title\": \"FoSCoS - FSSAI\",\n",
      "    \"description\": null\n",
      "  }\n",
      "]\n",
      "\n",
      "**Expected Output:**\n",
      "[\n",
      "  {\n",
      "    \"url\": \"https://foscos.fssai.gov.in/assets/docs/fbo/HowtoapplyforManufacturerlicense.pdf\",\n",
      "    \"title\": \"How to Apply for Manufacturer License\",\n",
      "    \"desc\": \"Official PDF guide from FSSAI on applying for a manufacturer license under the FSSAI License/Registration system.\"\n",
      "  },\n",
      "  {\n",
      "    \"url\": \"https://foscos.fssai.gov.in/faqs-license-registration\",\n",
      "    \"title\": \"License & Registration FAQs\",\n",
      "    \"desc\": \"Frequently asked questions about the FSSAI License/Registration process, covering common queries for businesses in India.\"\n",
      "  },\n",
      "  {\n",
      "    \"url\": \"https://foscos.fssai.gov.in/public/login-guest-user\",\n",
      "    \"title\": \"FoSCoS Login Portal\",\n",
      "    \"desc\": \"Not relevant to certification.\"\n",
      "  },\n",
      "  {\n",
      "    \"url\": \"https://foscos.fssai.gov.in/renewal\",\n",
      "    \"title\": \"License Renewal Portal\",\n",
      "    \"desc\": \"FoSCoS webpage for renewal of FSSAI License/Registration, where businesses can update and extend their existing license.\"\n",
      "  }\n",
      "]\n",
      "\n",
      "---\n",
      "\n",
      "Now process the following batch:\n",
      "\n",
      "**Certification Context:**\n",
      "- Name: FSSAI License/Registration\n",
      "- Issuing Body: Food Safety and Standards Authority of India\n",
      "- Region: India\n",
      "- Official Link: https://foscos.fssai.gov.in/\n",
      "\n",
      "**Input URLs:**\n",
      "[{'url': 'https://foscos.fssai.gov.in/public/login-guest-user', 'title': 'FoSCoS - FSSAI', 'description': None}, {'url': 'https://foscos.fssai.gov.in/faqs-license-registration', 'title': 'FoSCoS - FSSAI', 'description': None}, {'url': 'https://foscos.fssai.gov.in/assets/docs/fbo/HowtoapplyforManufacturerlicense.pdf', 'title': '[PDF] How to apply for a license for a Manufacturer? Step 1 - FoSCoS', 'description': \"Step 4: Read the Group Heads of Kind of Business and select the appropriate Manufacturing. Kind of Business. Under 'Manufacturer' group head there are 12 ...\"}, {'url': 'https://foscos.fssai.gov.in/about-foscos', 'title': 'FoSCoS - FSSAI', 'description': None}, {'url': 'https://foscos.fssai.gov.in/assets/docs/KindofBusinessEligibility.pdf', 'title': '[PDF] 1 Kind of Business Criteria License/ Registration Fee Per Annum ...', 'description': 'Manufacturing or processing means each step in conversion of raw material derived from livestock and agricultural produce into products for intermediate or ...'}, {'url': 'https://foscos.fssai.gov.in/fee/SL', 'title': 'FoSCoS - FSSAI', 'description': None}, {'url': 'https://foscos.fssai.gov.in/public/assets/docs/KoBwiseDocumentsrequiredforLicense.pdf', 'title': '[PDF] DAIRY UNITS INCLUDING MILK CHILLING UNITS EQUIPPED TO ...', 'description': 'Proof of possession of premises. (Sale deed/ Rent agreement/ Electricity bill, etc.) 8. Copy of certificate obtained under Coop Act-1861/ Multi State Coop ...'}, {'url': 'https://foscos.fssai.gov.in/assets/docs/Relabeller_Definition.pdf', 'title': '[PDF] Clarification on Relabeller Kind of Business. - FoSCoS', 'description': 'In order to facilitate smooth flow of licensing system, following decisions have been taken: 1. Licensing of relabellers: One single license may be issued ...'}, {'url': 'https://foscos.fssai.gov.in/assets/docs/FAQN.pdf', 'title': '[PDF] FAQ related to FLRS S.No. Question Answer - Food Safety Kerala', 'description': 'Login with your user credential and select apply for license/Registration from the Tab License/registration and proceed. Follow the following steps-.'}, {'url': 'https://foscos.fssai.gov.in/statistics', 'title': 'FoSCoS - FSSAI', 'description': None}, {'url': 'https://foscos.fssai.gov.in/assets/docs/fbo/HowtoapplylicenseforImporters.pdf', 'title': '[PDF] How to apply license for Importers? Step 1 - FoSCoS', 'description': 'Step 7: Fill in all the mandatory fields as shown in Form B. Please fill the communication details with caution as all the communication made by the ...'}, {'url': 'https://foscos.fssai.gov.in/assets/docs/User%20manual%20for%20link%20Head%20office%20license.pdf', 'title': 'The User manual for link Head Office:-', 'description': None}, {'url': 'https://foscos.fssai.gov.in/assets/docs/fbo/NOC.pdf', 'title': '[PDF] User Manual for Relabellers to obtain online NOC from Third party ...', 'description': 'System will allow you to proceed with Pending request for NOC from the Manufacturers from this stage. But, in case NOC is not received from the concerned ...'}, {'url': 'https://foscos.fssai.gov.in', 'title': 'FoSCoS - FSSAI', 'description': None}, {'url': 'https://foscos.fssai.gov.in/assets/docs/DocumentsrequiredforRegistrationCertificate.pdf', 'title': '[PDF] Documents required for Registration Certificate - FoSCoS', 'description': '... Photo ID such as AADHAAR, PAN, Voter ID etc. 3. Proof of Address of Businesses activity (if address is other than as mentioned in Photo ID. Card)'}, {'url': 'https://foscos.fssai.gov.in/state-wise-statistics', 'title': 'FoSCoS - FSSAI', 'description': None}, {'url': 'https://foscos.fssai.gov.in/public/assets/docs/DeclarationforLicense.pdf', 'title': '[PDF] Declaration to be submitted along with the application for License ...', 'description': 'In case of manufacturing, the endorsed products refer to products for which standards are prescribed as per FSS (Food Products and Additives) Regulations ...'}, {'url': 'https://foscos.fssai.gov.in/public/assets/docs/sample_docs/112_203_List_of_Director_Partner_Proprietor_Executive_Member.pdf', 'title': '[PDF] List of Directors/ Partners/ Proprietor/ Executive member of Society', 'description': 'The table particular containing asterisk mark are necessary. Rest of them are optional. • The letterhead must contain name of the company/partnership ...'}, {'url': 'https://foscos.fssai.gov.in/public/assets/docs/DocumentListMarch.pdf', 'title': None, 'description': None}, {'url': 'https://foscos.fssai.gov.in/annualreturn', 'title': 'FoSCoS - FSSAI', 'description': None}, {'url': 'https://foscos.fssai.gov.in/assets/docs/fbo/Howtorespondtoarevertedapplication.pdf', 'title': '[PDF] Respond to a Reverted Application - FoSCoS', 'description': 'Step 5: Form B will open and only those fields will be in editable mode which DO has marked for editing. For instance,.'}, {'url': 'https://foscos.fssai.gov.in/assets/docs/Form%20D_Annual%20Return_FY%202023-24.pdf', 'title': 'Microsoft Word - FORM D1_05-02-2024', 'description': None}, {'url': 'https://foscos.fssai.gov.in/assets/docs/FAQs%20on%20Instant%20Issuance%20of%20License%20&%20Registration.pdf', 'title': 'Microsoft Word - FAQ on Instant Issuance of License & Reg...', 'description': None}, {'url': 'https://foscos.fssai.gov.in/assets/docs/Final_Track%20change_Clubbing%20in%20the%20list%20of%20Standardized%20Food%20Products%20having%20variants%20(types%20%20subtypes)%20DFA%2034233.pdf', 'title': None, 'description': None}, {'url': 'https://foscos.fssai.gov.in/assets/docs/202012161108.pdf', 'title': '[PDF] No. 15(31)2020/FoSCOS/RCD/FSSAI - Food Safety and Standards ...', 'description': 'there is no provision for FBOs to make online request against rejection and reinstatement of application for licenses or registrations.'}, {'url': 'https://foscos.fssai.gov.in/advance-fbo-search', 'title': 'FoSCoS - FSSAI', 'description': None}, {'url': 'https://foscos.fssai.gov.in/sitemap.xml', 'title': 'FoSCoS - FSSAI', 'description': None}, {'url': 'https://foscos.fssai.gov.in/apply-for-lic-and-reg', 'title': 'FoSCoS - FSSAI', 'description': None}, {'url': 'https://foscos.fssai.gov.in/assets/docs/DocumentListMarch.pdf', 'title': '[PDF] No. 15(31)2020/FoSCOS/RCD/FSSAI - Food Safety and Standards ...', 'description': 'A list of documents required to be submitted at the time of applying for new license and renewal/ modification of license was issued by FSSAI vide order no.'}, {'url': 'https://foscos.fssai.gov.in/public/validate-license-for-renewal', 'title': 'FoSCoS - FSSAI', 'description': None}]\n",
      "\n"
     ]
    }
   ],
   "source": [
    "import json\n",
    "from prompt import build_prompt\n",
    "with open('/Users/kerr/Mangrove AI/FireCrwal/certification_map_FSSAI_License_Registration.json', \"r\", encoding='utf-8') as f:\n",
    "        input = json.load(f)\n",
    "        certification_info = input['certification']\n",
    "        all_urls = input.get('links', [])\n",
    "\n",
    "urls_batch = all_urls[0:0 + 30]\n",
    "prompt = build_prompt(certification_info, urls_batch)\n",
    "\n",
    "print(prompt)"
   ]
  },
  {
   "cell_type": "code",
   "execution_count": 8,
   "id": "918362d9",
   "metadata": {},
   "outputs": [],
   "source": [
    "client = OpenAI()\n",
    "response = client.chat.completions.create(\n",
    "            model=\"gpt-4o\",\n",
    "            messages=[\n",
    "                {\"role\": \"system\", \"content\": \"You are a helpful assistant.\"},\n",
    "                {\"role\": \"user\", \"content\": prompt}\n",
    "            ],\n",
    "            temperature=0,\n",
    "        )"
   ]
  },
  {
   "cell_type": "code",
   "execution_count": 12,
   "id": "4225b490",
   "metadata": {},
   "outputs": [
    {
     "name": "stdout",
     "output_type": "stream",
     "text": [
      "```json\n",
      "[\n",
      "  {\n",
      "    \"url\": \"https://foscos.fssai.gov.in/public/login-guest-user\",\n",
      "    \"title\": \"FoSCoS Login Portal\",\n",
      "    \"desc\": \"Not relevant to certification.\"\n",
      "  },\n",
      "  {\n",
      "    \"url\": \"https://foscos.fssai.gov.in/faqs-license-registration\",\n",
      "    \"title\": \"License & Registration FAQs\",\n",
      "    \"desc\": \"Frequently asked questions about the FSSAI License/Registration process, covering common queries for businesses in India.\"\n",
      "  },\n",
      "  {\n",
      "    \"url\": \"https://foscos.fssai.gov.in/assets/docs/fbo/HowtoapplyforManufacturerlicense.pdf\",\n",
      "    \"title\": \"How to Apply for Manufacturer License\",\n",
      "    \"desc\": \"Official PDF guide from FSSAI on applying for a manufacturer license under the FSSAI License/Registration system.\"\n",
      "  },\n",
      "  {\n",
      "    \"url\": \"https://foscos.fssai.gov.in/about-foscos\",\n",
      "    \"title\": \"About FoSCoS\",\n",
      "    \"desc\": \"Information about the Food Safety Compliance System (FoSCoS) used for managing FSSAI License/Registration in India.\"\n",
      "  },\n",
      "  {\n",
      "    \"url\": \"https://foscos.fssai.gov.in/assets/docs/KindofBusinessEligibility.pdf\",\n",
      "    \"title\": \"Kind of Business Criteria and Fees\",\n",
      "    \"desc\": \"PDF document detailing the eligibility criteria and annual fees for different kinds of businesses under the FSSAI License/Registration.\"\n",
      "  },\n",
      "  {\n",
      "    \"url\": \"https://foscos.fssai.gov.in/fee/SL\",\n",
      "    \"title\": \"Fee Structure\",\n",
      "    \"desc\": \"Details on the fee structure for obtaining FSSAI License/Registration in India.\"\n",
      "  },\n",
      "  {\n",
      "    \"url\": \"https://foscos.fssai.gov.in/public/assets/docs/KoBwiseDocumentsrequiredforLicense.pdf\",\n",
      "    \"title\": \"Documents Required for License\",\n",
      "    \"desc\": \"PDF listing the documents required for obtaining an FSSAI License based on the kind of business.\"\n",
      "  },\n",
      "  {\n",
      "    \"url\": \"https://foscos.fssai.gov.in/assets/docs/Relabeller_Definition.pdf\",\n",
      "    \"title\": \"Clarification on Relabeller Business\",\n",
      "    \"desc\": \"PDF providing clarification on licensing requirements for relabellers under the FSSAI License/Registration system.\"\n",
      "  },\n",
      "  {\n",
      "    \"url\": \"https://foscos.fssai.gov.in/assets/docs/FAQN.pdf\",\n",
      "    \"title\": \"FAQs on FLRS\",\n",
      "    \"desc\": \"PDF document answering frequently asked questions related to the Food Licensing and Registration System (FLRS) under FSSAI.\"\n",
      "  },\n",
      "  {\n",
      "    \"url\": \"https://foscos.fssai.gov.in/statistics\",\n",
      "    \"title\": \"FoSCoS Statistics\",\n",
      "    \"desc\": \"Statistical data related to FSSAI License/Registration activities managed through the FoSCoS platform.\"\n",
      "  },\n",
      "  {\n",
      "    \"url\": \"https://foscos.fssai.gov.in/assets/docs/fbo/HowtoapplylicenseforImporters.pdf\",\n",
      "    \"title\": \"How to Apply for Importer License\",\n",
      "    \"desc\": \"Official PDF guide from FSSAI on applying for an importer license under the FSSAI License/Registration system.\"\n",
      "  },\n",
      "  {\n",
      "    \"url\": \"https://foscos.fssai.gov.in/assets/docs/User%20manual%20for%20link%20Head%20office%20license.pdf\",\n",
      "    \"title\": \"User Manual for Linking Head Office License\",\n",
      "    \"desc\": \"Guide on how to link a head office license with other licenses under the FSSAI License/Registration system.\"\n",
      "  },\n",
      "  {\n",
      "    \"url\": \"https://foscos.fssai.gov.in/assets/docs/fbo/NOC.pdf\",\n",
      "    \"title\": \"User Manual for Relabellers NOC\",\n",
      "    \"desc\": \"PDF guide for relabellers on obtaining an online No Objection Certificate (NOC) from third parties under the FSSAI system.\"\n",
      "  },\n",
      "  {\n",
      "    \"url\": \"https://foscos.fssai.gov.in\",\n",
      "    \"title\": \"FoSCoS Home\",\n",
      "    \"desc\": \"Official homepage for the Food Safety Compliance System (FoSCoS) used for FSSAI License/Registration in India.\"\n",
      "  },\n",
      "  {\n",
      "    \"url\": \"https://foscos.fssai.gov.in/assets/docs/DocumentsrequiredforRegistrationCertificate.pdf\",\n",
      "    \"title\": \"Documents Required for Registration Certificate\",\n",
      "    \"desc\": \"PDF listing the documents required for obtaining an FSSAI Registration Certificate.\"\n",
      "  },\n",
      "  {\n",
      "    \"url\": \"https://foscos.fssai.gov.in/state-wise-statistics\",\n",
      "    \"title\": \"State-wise Statistics\",\n",
      "    \"desc\": \"State-wise statistical data related to FSSAI License/Registration activities.\"\n",
      "  },\n",
      "  {\n",
      "    \"url\": \"https://foscos.fssai.gov.in/public/assets/docs/DeclarationforLicense.pdf\",\n",
      "    \"title\": \"Declaration for License Application\",\n",
      "    \"desc\": \"PDF document detailing the declaration required to be submitted with an FSSAI License application.\"\n",
      "  },\n",
      "  {\n",
      "    \"url\": \"https://foscos.fssai.gov.in/public/assets/docs/sample_docs/112_203_List_of_Director_Partner_Proprietor_Executive_Member.pdf\",\n",
      "    \"title\": \"List of Directors/Partners/Proprietors\",\n",
      "    \"desc\": \"PDF listing the required details of directors, partners, or proprietors for FSSAI License applications.\"\n",
      "  },\n",
      "  {\n",
      "    \"url\": \"https://foscos.fssai.gov.in/public/assets/docs/DocumentListMarch.pdf\",\n",
      "    \"title\": \"Document List for License Application\",\n",
      "    \"desc\": \"A list of documents required for new license applications and renewals under the FSSAI License/Registration system.\"\n",
      "  },\n",
      "  {\n",
      "    \"url\": \"https://foscos.fssai.gov.in/annualreturn\",\n",
      "    \"title\": \"Annual Return Portal\",\n",
      "    \"desc\": \"Portal for submitting annual returns as part of the FSSAI License/Registration compliance requirements.\"\n",
      "  },\n",
      "  {\n",
      "    \"url\": \"https://foscos.fssai.gov.in/assets/docs/fbo/Howtorespondtoarevertedapplication.pdf\",\n",
      "    \"title\": \"Respond to a Reverted Application\",\n",
      "    \"desc\": \"PDF guide on how to respond to a reverted application in the FSSAI License/Registration process.\"\n",
      "  },\n",
      "  {\n",
      "    \"url\": \"https://foscos.fssai.gov.in/assets/docs/Form%20D_Annual%20Return_FY%202023-24.pdf\",\n",
      "    \"title\": \"Form D Annual Return FY 2023-24\",\n",
      "    \"desc\": \"PDF form for submitting the annual return for the fiscal year 2023-24 under the FSSAI License/Registration system.\"\n",
      "  },\n",
      "  {\n",
      "    \"url\": \"https://foscos.fssai.gov.in/assets/docs/FAQs%20on%20Instant%20Issuance%20of%20License%20&%20Registration.pdf\",\n",
      "    \"title\": \"FAQs on Instant Issuance of License & Registration\",\n",
      "    \"desc\": \"PDF document answering questions about the instant issuance process for FSSAI License/Registration.\"\n",
      "  },\n",
      "  {\n",
      "    \"url\": \"https://foscos.fssai.gov.in/assets/docs/Final_Track%20change_Clubbing%20in%20the%20list%20of%20Standardized%20Food%20Products%20having%20variants%20(types%20%20subtypes)%20DFA%2034233.pdf\",\n",
      "    \"title\": \"Clubbing of Standardized Food Products\",\n",
      "    \"desc\": \"PDF document detailing the clubbing of standardized food products with variants under FSSAI regulations.\"\n",
      "  },\n",
      "  {\n",
      "    \"url\": \"https://foscos.fssai.gov.in/assets/docs/202012161108.pdf\",\n",
      "    \"title\": \"No Provision for Online Request Against Rejection\",\n",
      "    \"desc\": \"PDF document explaining the lack of provision for online requests against rejection of FSSAI License/Registration applications.\"\n",
      "  },\n",
      "  {\n",
      "    \"url\": \"https://foscos.fssai.gov.in/advance-fbo-search\",\n",
      "    \"title\": \"Advanced FBO Search\",\n",
      "    \"desc\": \"Search tool for finding Food Business Operators (FBOs) registered under the FSSAI License/Registration system.\"\n",
      "  },\n",
      "  {\n",
      "    \"url\": \"https://foscos.fssai.gov.in/sitemap.xml\",\n",
      "    \"title\": \"FoSCoS Sitemap\",\n",
      "    \"desc\": \"Not relevant to certification.\"\n",
      "  },\n",
      "  {\n",
      "    \"url\": \"https://foscos.fssai.gov.in/apply-for-lic-and-reg\",\n",
      "    \"title\": \"Apply for License and Registration\",\n",
      "    \"desc\": \"Portal for applying for FSSAI License/Registration for food businesses in India.\"\n",
      "  },\n",
      "  {\n",
      "    \"url\": \"https://foscos.fssai.gov.in/public/validate-license-for-renewal\",\n",
      "    \"title\": \"Validate License for Renewal\",\n",
      "    \"desc\": \"Portal for validating an FSSAI License for renewal purposes.\"\n",
      "  }\n",
      "]\n",
      "```\n"
     ]
    }
   ],
   "source": [
    "print(response.choices[0].message.content)"
   ]
  }
 ],
 "metadata": {
  "kernelspec": {
   "display_name": "base",
   "language": "python",
   "name": "python3"
  },
  "language_info": {
   "codemirror_mode": {
    "name": "ipython",
    "version": 3
   },
   "file_extension": ".py",
   "mimetype": "text/x-python",
   "name": "python",
   "nbconvert_exporter": "python",
   "pygments_lexer": "ipython3",
   "version": "3.12.4"
  }
 },
 "nbformat": 4,
 "nbformat_minor": 5
}
